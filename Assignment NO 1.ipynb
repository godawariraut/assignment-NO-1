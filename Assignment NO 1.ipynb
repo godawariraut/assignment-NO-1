{
 "cells": [
  {
   "cell_type": "code",
   "execution_count": 2,
   "id": "fe3b23bb",
   "metadata": {},
   "outputs": [
    {
     "data": {
      "text/plain": [
       "2401"
      ]
     },
     "execution_count": 2,
     "metadata": {},
     "output_type": "execute_result"
    }
   ],
   "source": [
    "7**4"
   ]
  },
  {
   "cell_type": "code",
   "execution_count": 3,
   "id": "584fe1c5",
   "metadata": {},
   "outputs": [],
   "source": [
    "s=\"Hi there yogesh\""
   ]
  },
  {
   "cell_type": "code",
   "execution_count": 4,
   "id": "cbc0f4cd",
   "metadata": {},
   "outputs": [
    {
     "data": {
      "text/plain": [
       "str"
      ]
     },
     "execution_count": 4,
     "metadata": {},
     "output_type": "execute_result"
    }
   ],
   "source": [
    "type(s)"
   ]
  },
  {
   "cell_type": "code",
   "execution_count": 5,
   "id": "578bb7c4",
   "metadata": {},
   "outputs": [
    {
     "data": {
      "text/plain": [
       "'Hi there yogesh'"
      ]
     },
     "execution_count": 5,
     "metadata": {},
     "output_type": "execute_result"
    }
   ],
   "source": [
    "s"
   ]
  },
  {
   "cell_type": "code",
   "execution_count": 6,
   "id": "af2a61f5",
   "metadata": {},
   "outputs": [
    {
     "data": {
      "text/plain": [
       "['', '']"
      ]
     },
     "execution_count": 6,
     "metadata": {},
     "output_type": "execute_result"
    }
   ],
   "source": [
    "s.split(s)"
   ]
  },
  {
   "cell_type": "code",
   "execution_count": null,
   "id": "de7e6af0",
   "metadata": {},
   "outputs": [],
   "source": []
  },
  {
   "cell_type": "code",
   "execution_count": 7,
   "id": "203e17a2",
   "metadata": {},
   "outputs": [
    {
     "data": {
      "text/plain": [
       "['Hi there yogesh']"
      ]
     },
     "execution_count": 7,
     "metadata": {},
     "output_type": "execute_result"
    }
   ],
   "source": [
    "s.split(',')"
   ]
  },
  {
   "cell_type": "code",
   "execution_count": 13,
   "id": "c8867c81",
   "metadata": {},
   "outputs": [],
   "source": [
    "words = s.split()"
   ]
  },
  {
   "cell_type": "code",
   "execution_count": 14,
   "id": "ca332c7d",
   "metadata": {},
   "outputs": [
    {
     "data": {
      "text/plain": [
       "['Hi', 'there', 'yogesh']"
      ]
     },
     "execution_count": 14,
     "metadata": {},
     "output_type": "execute_result"
    }
   ],
   "source": [
    "words"
   ]
  },
  {
   "cell_type": "code",
   "execution_count": 16,
   "id": "a936bfcd",
   "metadata": {},
   "outputs": [],
   "source": [
    "planet = \"Earth\""
   ]
  },
  {
   "cell_type": "code",
   "execution_count": 17,
   "id": "f9429176",
   "metadata": {},
   "outputs": [],
   "source": [
    "diameter =\"12742\""
   ]
  },
  {
   "cell_type": "code",
   "execution_count": 18,
   "id": "b682e2ee",
   "metadata": {},
   "outputs": [
    {
     "name": "stdout",
     "output_type": "stream",
     "text": [
      "Earth\n"
     ]
    }
   ],
   "source": [
    "print(planet)"
   ]
  },
  {
   "cell_type": "code",
   "execution_count": 2,
   "id": "880ad922",
   "metadata": {},
   "outputs": [],
   "source": [
    "a=\"Earth\"\n",
    "b=\"12742\""
   ]
  },
  {
   "cell_type": "code",
   "execution_count": 3,
   "id": "d8f6389d",
   "metadata": {},
   "outputs": [
    {
     "data": {
      "text/plain": [
       "'The diameter of Earth is 12742 kilometers'"
      ]
     },
     "execution_count": 3,
     "metadata": {},
     "output_type": "execute_result"
    }
   ],
   "source": [
    "'The diameter of {} is {} kilometers'. format(a,b)"
   ]
  },
  {
   "cell_type": "code",
   "execution_count": 6,
   "id": "4ab3c7d6",
   "metadata": {},
   "outputs": [
    {
     "name": "stdout",
     "output_type": "stream",
     "text": [
      "The diameter of Earth is 12742 kilometers\n"
     ]
    }
   ],
   "source": [
    "print('The diameter of {} is {} kilometers'. format(a,b))"
   ]
  },
  {
   "cell_type": "code",
   "execution_count": 8,
   "id": "0f7d53c2",
   "metadata": {},
   "outputs": [
    {
     "ename": "SyntaxError",
     "evalue": "invalid syntax (1389372711.py, line 1)",
     "output_type": "error",
     "traceback": [
      "\u001b[1;36m  Input \u001b[1;32mIn [8]\u001b[1;36m\u001b[0m\n\u001b[1;33m    Given this nested list, use indexing to grab the word \"hello\"\u001b[0m\n\u001b[1;37m          ^\u001b[0m\n\u001b[1;31mSyntaxError\u001b[0m\u001b[1;31m:\u001b[0m invalid syntax\n"
     ]
    }
   ],
   "source": [
    " Given this nested list, use indexing to grab the word \"hello\""
   ]
  },
  {
   "cell_type": "code",
   "execution_count": 24,
   "id": "b4c55b56",
   "metadata": {},
   "outputs": [],
   "source": [
    " list = [1,2,[3,4],[5,[100,200,['hello']],23,11],1,7]"
   ]
  },
  {
   "cell_type": "code",
   "execution_count": 25,
   "id": "3187ec4b",
   "metadata": {},
   "outputs": [
    {
     "data": {
      "text/plain": [
       "[1, 2, [3, 4], [5, [100, 200, ['hello']], 23, 11], 1, 7]"
      ]
     },
     "execution_count": 25,
     "metadata": {},
     "output_type": "execute_result"
    }
   ],
   "source": [
    "list"
   ]
  },
  {
   "cell_type": "code",
   "execution_count": 26,
   "id": "574a3173",
   "metadata": {},
   "outputs": [
    {
     "data": {
      "text/plain": [
       "list"
      ]
     },
     "execution_count": 26,
     "metadata": {},
     "output_type": "execute_result"
    }
   ],
   "source": [
    "type(list)"
   ]
  },
  {
   "cell_type": "code",
   "execution_count": 27,
   "id": "73b5db23",
   "metadata": {},
   "outputs": [
    {
     "data": {
      "text/plain": [
       "[1, 2, [3, 4], [5, [100, 200, ['hello']], 23, 11], 1, 7]"
      ]
     },
     "execution_count": 27,
     "metadata": {},
     "output_type": "execute_result"
    }
   ],
   "source": [
    "list"
   ]
  },
  {
   "cell_type": "code",
   "execution_count": 43,
   "id": "5b0a4bcf",
   "metadata": {},
   "outputs": [
    {
     "data": {
      "text/plain": [
       "[5, [100, 200, ['hello']], 23, 11]"
      ]
     },
     "execution_count": 43,
     "metadata": {},
     "output_type": "execute_result"
    }
   ],
   "source": [
    "list[3]"
   ]
  },
  {
   "cell_type": "code",
   "execution_count": 78,
   "id": "418a1ec6",
   "metadata": {},
   "outputs": [
    {
     "data": {
      "text/plain": [
       "'hello'"
      ]
     },
     "execution_count": 78,
     "metadata": {},
     "output_type": "execute_result"
    }
   ],
   "source": [
    "list[3][1][-1][0]"
   ]
  },
  {
   "cell_type": "markdown",
   "id": "a77ff94f",
   "metadata": {},
   "source": [
    "#Create a function that counts the number of times of times the word \"dog\" occurs in a string Againignore edge cases"
   ]
  },
  {
   "cell_type": "code",
   "execution_count": 67,
   "id": "078fb0de",
   "metadata": {},
   "outputs": [
    {
     "data": {
      "text/plain": [
       "True"
      ]
     },
     "execution_count": 67,
     "metadata": {},
     "output_type": "execute_result"
    }
   ],
   "source": [
    "'dog ' in 'This dog runs faster than the other dog dude!'"
   ]
  },
  {
   "cell_type": "code",
   "execution_count": 53,
   "id": "80e59c38",
   "metadata": {},
   "outputs": [
    {
     "data": {
      "text/plain": [
       "' What is the difference betweeen a tuple and a list?'"
      ]
     },
     "execution_count": 53,
     "metadata": {},
     "output_type": "execute_result"
    }
   ],
   "source": [
    "\" What is the difference betweeen a tuple and a list?\""
   ]
  },
  {
   "cell_type": "code",
   "execution_count": 70,
   "id": "27d06a1e",
   "metadata": {},
   "outputs": [
    {
     "data": {
      "text/plain": [
       "True"
      ]
     },
     "execution_count": 70,
     "metadata": {},
     "output_type": "execute_result"
    }
   ],
   "source": [
    "dog('This dog runs faster than the other dog dude!')"
   ]
  },
  {
   "cell_type": "code",
   "execution_count": 73,
   "id": "5d648d07",
   "metadata": {},
   "outputs": [],
   "source": [
    "j=\" this dog runs fastr than the other dog dude\""
   ]
  },
  {
   "cell_type": "code",
   "execution_count": 74,
   "id": "4041ce04",
   "metadata": {},
   "outputs": [
    {
     "data": {
      "text/plain": [
       "2"
      ]
     },
     "execution_count": 74,
     "metadata": {},
     "output_type": "execute_result"
    }
   ],
   "source": [
    "j.count('dog')"
   ]
  },
  {
   "cell_type": "markdown",
   "id": "16d5cb6a",
   "metadata": {},
   "source": [
    "### Use lambda expressions and the filter() function to filter out words from a list that don't start with the letter 's'. For example:**\n",
    "\n",
    "    seq = ['soup','dog','salad','cat','great']\n",
    "\n",
    "**should be filtered down to:**\n",
    "\n",
    "    ['soup','salad']"
   ]
  },
  {
   "cell_type": "code",
   "execution_count": 7,
   "id": "882a6db1",
   "metadata": {},
   "outputs": [],
   "source": [
    "seq=['soup','dog','salad','cat','great']"
   ]
  },
  {
   "cell_type": "code",
   "execution_count": 8,
   "id": "0b7b1c1c",
   "metadata": {},
   "outputs": [
    {
     "data": {
      "text/plain": [
       "['soup', 'dog', 'salad', 'cat', 'great']"
      ]
     },
     "execution_count": 8,
     "metadata": {},
     "output_type": "execute_result"
    }
   ],
   "source": [
    "seq"
   ]
  },
  {
   "cell_type": "code",
   "execution_count": 9,
   "id": "047e1be8",
   "metadata": {},
   "outputs": [
    {
     "data": {
      "text/plain": [
       "list"
      ]
     },
     "execution_count": 9,
     "metadata": {},
     "output_type": "execute_result"
    }
   ],
   "source": [
    "type(seq)"
   ]
  },
  {
   "cell_type": "code",
   "execution_count": 14,
   "id": "178d5b32",
   "metadata": {},
   "outputs": [
    {
     "data": {
      "text/plain": [
       "['dog', 'cat', 'great']"
      ]
     },
     "execution_count": 14,
     "metadata": {},
     "output_type": "execute_result"
    }
   ],
   "source": [
    "list(filter(lambda x:x[0]!='s',seq))"
   ]
  },
  {
   "cell_type": "code",
   "execution_count": 15,
   "id": "da0c2d2d",
   "metadata": {},
   "outputs": [],
   "source": [
    "lam3=lambda x:x[0]!='s'"
   ]
  },
  {
   "cell_type": "code",
   "execution_count": 20,
   "id": "2683088d",
   "metadata": {},
   "outputs": [
    {
     "data": {
      "text/plain": [
       "['dog', 'cat', 'great']"
      ]
     },
     "execution_count": 20,
     "metadata": {},
     "output_type": "execute_result"
    }
   ],
   "source": [
    "list(filter(lam3,seq))"
   ]
  },
  {
   "cell_type": "code",
   "execution_count": null,
   "id": "eeae9a36",
   "metadata": {},
   "outputs": [],
   "source": [
    "You are driving a little too fast, and a police officer stops you. Write a function to return one of 3 possible results: \"No ticket\", \"Small ticket\", or \"Big Ticket\". If your speed is 60 or less, the result is \"No Ticket\". If speed is between 61 and 80 inclusive, the result is \"Small Ticket\". If speed is 81 or more, the result is \"Big Ticket\". Unless it is your birthday (encoded as a boolean value in the parameters of the function) -- on your birthday, your speed can be 5 higher in all cases. "
   ]
  },
  {
   "cell_type": "code",
   "execution_count": 43,
   "id": "a5904972",
   "metadata": {},
   "outputs": [
    {
     "name": "stdout",
     "output_type": "stream",
     "text": [
      "Enter the speed78\n",
      "Enter Brithday statustrue\n",
      "SMALL TICKET\n"
     ]
    }
   ],
   "source": [
    "speed=int(input(\"Enter the speed\"))\n",
    "brithday=bool(input(\"Enter Brithday status\"))\n",
    "if True:\n",
    "    speed=speed-5\n",
    "if speed>80:\n",
    "    print(\"BIG TICKET\")\n",
    "elif speed>60:\n",
    "    print(\"SMALL TICKET\")\n",
    "else:\n",
    "    print(\"NO TICKET\")\n",
    "    "
   ]
  },
  {
   "cell_type": "code",
   "execution_count": 44,
   "id": "ca438afb",
   "metadata": {},
   "outputs": [
    {
     "name": "stdout",
     "output_type": "stream",
     "text": [
      "Enter the speed65\n",
      "Enter Brithday statusfalse\n",
      "NO TICKET\n"
     ]
    }
   ],
   "source": [
    "speed=int(input(\"Enter the speed\"))\n",
    "brithday=bool(input(\"Enter Brithday status\"))\n",
    "if True:\n",
    "    speed=speed-5\n",
    "if speed>80:\n",
    "    print(\"BIG TICKET\")\n",
    "elif speed>60:\n",
    "    print(\"SMALL TICKET\")\n",
    "else:\n",
    "    print(\"NO TICKET\")\n",
    "    "
   ]
  },
  {
   "cell_type": "code",
   "execution_count": 46,
   "id": "aae3b2e6",
   "metadata": {},
   "outputs": [
    {
     "name": "stdout",
     "output_type": "stream",
     "text": [
      "Enter the speed87\n",
      "Enter Brithday statusTrue\n",
      "BIG TICKET\n"
     ]
    }
   ],
   "source": [
    "speed=int(input(\"Enter the speed\"))\n",
    "brithday=bool(input(\"Enter Brithday status\"))\n",
    "if True:\n",
    "    speed=speed-5\n",
    "if speed>80:\n",
    "    print(\"BIG TICKET\")\n",
    "elif speed>60:\n",
    "    print(\"SMALL TICKET\")\n",
    "else:\n",
    "    print(\"NO TICKET\")\n",
    "    "
   ]
  },
  {
   "cell_type": "code",
   "execution_count": null,
   "id": "cf8cdbe9",
   "metadata": {},
   "outputs": [],
   "source": [
    "Question: Given a string print number num by extracting all the\n",
    "digits from the string as in string\n",
    "Print negative number if the first character in \n",
    "string is '-'\n",
    "eg.\n",
    "-123abcd should return -123,abcd456-->456,fdhfh78dsd89--->7889,-56dssd78-->-5678"
   ]
  },
  {
   "cell_type": "code",
   "execution_count": 54,
   "id": "73424575",
   "metadata": {},
   "outputs": [
    {
     "name": "stdout",
     "output_type": "stream",
     "text": [
      "Enter the Input: -56dssd78\n",
      "-5678\n"
     ]
    }
   ],
   "source": [
    "s=input(\"Enter the Input: \")\n",
    "num=\"\"\n",
    "a=[0,1,2,3,4,5,6,7,8,9]\n",
    "if s[0]==\"-\":\n",
    "    num=num+s[0]\n",
    "for c in s:\n",
    "    if c in str(a):\n",
    "        num=num+c\n",
    "print(num)"
   ]
  },
  {
   "cell_type": "code",
   "execution_count": 55,
   "id": "32fa2302",
   "metadata": {},
   "outputs": [
    {
     "data": {
      "text/plain": [
       "'-56dssd78'"
      ]
     },
     "execution_count": 55,
     "metadata": {},
     "output_type": "execute_result"
    }
   ],
   "source": [
    "s"
   ]
  },
  {
   "cell_type": "code",
   "execution_count": 56,
   "id": "4d31a0b8",
   "metadata": {},
   "outputs": [
    {
     "data": {
      "text/plain": [
       "str"
      ]
     },
     "execution_count": 56,
     "metadata": {},
     "output_type": "execute_result"
    }
   ],
   "source": [
    "type(s)"
   ]
  },
  {
   "cell_type": "code",
   "execution_count": 57,
   "id": "9e0448a9",
   "metadata": {},
   "outputs": [
    {
     "name": "stdout",
     "output_type": "stream",
     "text": [
      "Enter the Input: -ab45cd\n",
      "-45\n"
     ]
    }
   ],
   "source": [
    "s=input(\"Enter the Input: \")\n",
    "num=\"\"\n",
    "a=[0,1,2,3,4,5,6,7,8,9]\n",
    "if s[0]==\"-\":\n",
    "    num=num+s[0]\n",
    "for c in s:\n",
    "    if c in str(a):\n",
    "        num=num+c\n",
    "print(num)"
   ]
  },
  {
   "cell_type": "code",
   "execution_count": 58,
   "id": "8541eca8",
   "metadata": {},
   "outputs": [
    {
     "data": {
      "text/plain": [
       "'-ab45cd'"
      ]
     },
     "execution_count": 58,
     "metadata": {},
     "output_type": "execute_result"
    }
   ],
   "source": [
    "s"
   ]
  },
  {
   "cell_type": "code",
   "execution_count": 59,
   "id": "56090111",
   "metadata": {},
   "outputs": [
    {
     "data": {
      "text/plain": [
       "str"
      ]
     },
     "execution_count": 59,
     "metadata": {},
     "output_type": "execute_result"
    }
   ],
   "source": [
    "type(s)"
   ]
  },
  {
   "cell_type": "code",
   "execution_count": null,
   "id": "4d1514c7",
   "metadata": {},
   "outputs": [],
   "source": [
    "Q2\n",
    "WAP to check whether a number is palindrome or not on following conditions.\n",
    "1. take input number\n",
    "2. add number and its reverse\n",
    "3. check that number is palindrome or not,if not then sum and its reverse"
   ]
  },
  {
   "cell_type": "code",
   "execution_count": 79,
   "id": "82ee80c9",
   "metadata": {},
   "outputs": [
    {
     "name": "stdout",
     "output_type": "stream",
     "text": [
      "Enter the number: 88\n",
      "Number is : 847\n",
      "reverse is : 748\n",
      "Number is : 1595\n",
      "reverse is : 5951\n",
      "Number is : 7546\n",
      "reverse is : 6457\n",
      "Number is : 14003\n",
      "reverse is : 30041\n",
      "Number is : 44044\n",
      "reverse is : 44044\n",
      "palindrome is : 44044\n"
     ]
    }
   ],
   "source": [
    "num1=input(\"Enter the number: \")\n",
    "num2=int(num1[::-1])\n",
    "num3=str(int(num1)+num2)\n",
    "while num3!=num3[::-1]:\n",
    "    num3=str(int(num3)+int(num3[::-1]))\n",
    "    print(\"Number is :\",num3)\n",
    "    print(\"reverse is :\",num3[::-1])\n",
    "print(\"palindrome is :\",num3)"
   ]
  },
  {
   "cell_type": "code",
   "execution_count": 80,
   "id": "2b8eb9cf",
   "metadata": {},
   "outputs": [
    {
     "data": {
      "text/plain": [
       "'88'"
      ]
     },
     "execution_count": 80,
     "metadata": {},
     "output_type": "execute_result"
    }
   ],
   "source": [
    "num1"
   ]
  },
  {
   "cell_type": "code",
   "execution_count": 81,
   "id": "b170acab",
   "metadata": {},
   "outputs": [
    {
     "data": {
      "text/plain": [
       "88"
      ]
     },
     "execution_count": 81,
     "metadata": {},
     "output_type": "execute_result"
    }
   ],
   "source": [
    "num2"
   ]
  },
  {
   "cell_type": "code",
   "execution_count": 82,
   "id": "f35dafa2",
   "metadata": {},
   "outputs": [
    {
     "data": {
      "text/plain": [
       "'44044'"
      ]
     },
     "execution_count": 82,
     "metadata": {},
     "output_type": "execute_result"
    }
   ],
   "source": [
    "num3"
   ]
  },
  {
   "cell_type": "code",
   "execution_count": null,
   "id": "6aac3da9",
   "metadata": {},
   "outputs": [],
   "source": [
    "Write a python function to find and display the five \n",
    "digit number in which the first digit is two more than \n",
    "the second,the second digit is two more than the third,\n",
    "the fourth digit is two less than the third, and the \n",
    "last digit is two more than\n",
    "the fourth.The sum of the third,fourth and fifth digits\n",
    "equals the first.The sum of all the digits is 19"
   ]
  },
  {
   "cell_type": "code",
   "execution_count": 11,
   "id": "b2308fce",
   "metadata": {},
   "outputs": [],
   "source": [
    "def find_five_no():\n",
    "    for i in range(9,0,-1):\n",
    "        first=i\n",
    "        second=i-2\n",
    "        third=i-4\n",
    "        fourth=i-6\n",
    "        fifth=i-4\n",
    "        \n",
    "        if third+fourth+fifth==first:\n",
    "            if(first+second+third+fourth+fifth)==19:\n",
    "                return(int(str(first)+str(second)+str(third)+str(fourth)+str(fifth)))\n",
    "                "
   ]
  },
  {
   "cell_type": "code",
   "execution_count": 12,
   "id": "0fc11c8f",
   "metadata": {},
   "outputs": [
    {
     "data": {
      "text/plain": [
       "75313"
      ]
     },
     "execution_count": 12,
     "metadata": {},
     "output_type": "execute_result"
    }
   ],
   "source": [
    "find_five_no()"
   ]
  },
  {
   "cell_type": "code",
   "execution_count": 13,
   "id": "681224f9",
   "metadata": {},
   "outputs": [
    {
     "data": {
      "text/plain": [
       "'C:\\\\Users\\\\amolt'"
      ]
     },
     "execution_count": 13,
     "metadata": {},
     "output_type": "execute_result"
    }
   ],
   "source": [
    "pwd"
   ]
  },
  {
   "cell_type": "code",
   "execution_count": null,
   "id": "bda14f24",
   "metadata": {},
   "outputs": [],
   "source": []
  }
 ],
 "metadata": {
  "kernelspec": {
   "display_name": "Python 3 (ipykernel)",
   "language": "python",
   "name": "python3"
  },
  "language_info": {
   "codemirror_mode": {
    "name": "ipython",
    "version": 3
   },
   "file_extension": ".py",
   "mimetype": "text/x-python",
   "name": "python",
   "nbconvert_exporter": "python",
   "pygments_lexer": "ipython3",
   "version": "3.9.12"
  }
 },
 "nbformat": 4,
 "nbformat_minor": 5
}
